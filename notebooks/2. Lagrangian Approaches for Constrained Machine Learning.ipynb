{
 "cells": [
  {
   "cell_type": "code",
   "execution_count": 1,
   "metadata": {
    "slideshow": {
     "slide_type": "skip"
    }
   },
   "outputs": [],
   "source": [
    "# ============================================================\n",
    "# Notebook setup\n",
    "# ============================================================\n",
    "\n",
    "%load_ext autoreload\n",
    "%autoreload 2\n",
    "\n",
    "# Control figure size\n",
    "interactive_figures = True\n",
    "if interactive_figures:\n",
    "    # Normal behavior\n",
    "    %matplotlib widget\n",
    "    figsize=(9, 3)\n",
    "else:\n",
    "    # PDF export behavior\n",
    "    figsize=(14, 5)\n",
    "\n",
    "from util import cst\n",
    "import numpy as np\n",
    "from matplotlib import pyplot as plt\n",
    "import pandas as pd\n",
    "import tensorflow as tf\n",
    "from tensorflow import keras\n",
    "from tensorflow.keras import layers, callbacks\n",
    "from sklearn.metrics import r2_score, mean_squared_error, mean_absolute_error\n",
    "from sklearn.feature_selection import SelectKBest, f_regression\n",
    "from tensorflow.keras import regularizers\n",
    "\n",
    "# Load data\n",
    "data_folder = '/app/data'"
   ]
  },
  {
   "cell_type": "markdown",
   "metadata": {
    "slideshow": {
     "slide_type": "slide"
    }
   },
   "source": [
    "# Lagrangian Approaches for Constrained Machine Learning\n",
    "\n",
    "What if we have hard constraints?"
   ]
  },
  {
   "cell_type": "markdown",
   "metadata": {
    "slideshow": {
     "slide_type": "subslide"
    }
   },
   "source": [
    "## Constrained Machine Learning\n",
    "\n",
    "**Let's consider again our Lagrangian Relaxation for constrained ML**\n",
    "\n",
    "In particular, let's focus on problems in the form:\n",
    "$$\n",
    "\\arg\\min_{\\theta} \\left\\{ L({\\bf y}) + \\lambda^T \\max(0, g({\\bf y})) \\right\\} \\text{ with: } {\\bf y} = f({\\bf x}; \\theta)\n",
    "$$\n",
    "\n",
    "* We claimed there is no trivial constraint satisfaction guarantee\n",
    "* ...But what about _non-trivial_ ones? ;-)\n",
    "\n",
    "**What if we have an _optimal_ solver and sufficiently _large $\\lambda$_?**\n",
    "\n",
    "In this case, whenever the constraints are violated $L$ become negligible\n",
    "\n",
    "* It's like optimizing a _lexicographic cost function_\n",
    "* ...And we can guarantee constraint satisfaction (if at all possible)"
   ]
  },
  {
   "cell_type": "markdown",
   "metadata": {
    "slideshow": {
     "slide_type": "subslide"
    }
   },
   "source": [
    "## Penalty Method\n",
    "\n",
    "**This is the core idea in the classical _penalty method_**\n",
    "\n",
    "* $\\lambda^{(0)} = {\\bf 1}$\n",
    "* $\\theta^{(0)} = \\arg\\min_{\\theta} \\left\\{ L({\\bf y}) + \\lambda^{(0)T} \\max(0, g({\\bf y})) \\right\\} \\text{ with: } {\\bf y} = f({\\bf x}; \\theta)$\n",
    "* For $k = 1..n$\n",
    "  - If $g({\\bf y}) \\leq 0$, stop\n",
    "  - Otherwise $\\lambda^{(k)} = r\\lambda^{(k)}$\n",
    "  - $\\theta^{(k)} = \\arg\\min_{\\theta} \\left\\{ L({\\bf y}) + \\lambda^{(k)T} \\max(0, g({\\bf y})) \\right\\} \\text{ with: } {\\bf y} = f({\\bf x}; \\theta)$\n",
    " \n",
    " \n",
    "**The main idea is simply to make $\\lambda$ large enough**\n",
    "\n",
    "* It works even with non differentiable constraints\n",
    "* ...If your training engine can handle them, that is"
   ]
  },
  {
   "cell_type": "markdown",
   "metadata": {
    "slideshow": {
     "slide_type": "subslide"
    }
   },
   "source": [
    "## Drawbacks of the Penalty Method\n",
    "\n",
    "**The penalty method can be quite effective, but it has some _drawbacks_:**\n",
    "\n",
    "1. You need an optimal solver\n",
    "   * Without one, you only get approximate results (no guarantees)\n",
    "2. The $\\max$ (or square) is important\n",
    "   * Without that, penalties turn into rewards for satisfied constraints\n",
    "3. You may need arbitrarily large weights:\n",
    "\n",
    "<center><img src=\"assets/pm_fail.png\" width=\"550px\"/></center>"
   ]
  },
  {
   "cell_type": "markdown",
   "metadata": {
    "slideshow": {
     "slide_type": "subslide"
    }
   },
   "source": [
    "## Lagrangian Dual Approach\n",
    "\n",
    "**A nice compromise is provided by the _Lagrangian Dual approach_ [2]**\n",
    "\n",
    "We start from the fact that solving:\n",
    "$$\n",
    "\\min_{\\theta} \\left\\{ L({\\bf y}) + \\lambda^T \\max(0, g({\\bf y})) \\right\\} \\text{ with: } {\\bf y} = f({\\bf x}; \\theta)\n",
    "$$\n",
    "...Always provides a _lower bound_ on the true constrained optimum\n",
    "\n",
    "* The reason is that on the original feasible space, all penalty terms are 0\n",
    "* ...And therefore the minimum cannot be worse than the original one\n",
    "\n",
    "**Therefore, it makes sense to pick $\\lambda$ so as to _maximize this bound_**\n",
    "\n",
    "$$\n",
    "\\arg \\max_{\\lambda} \\min_{\\theta} \\left\\{ L({\\bf y}) + \\lambda^T \\max(0, g({\\bf y})) \\right\\} \\text{ with: } {\\bf y} = f({\\bf x}; \\theta)\n",
    "$$\n",
    "\n",
    "Solving this problem given the best possible lower bound"
   ]
  },
  {
   "cell_type": "markdown",
   "metadata": {
    "slideshow": {
     "slide_type": "subslide"
    }
   },
   "source": [
    "## Lagrangian Dual Approach\n",
    "\n",
    "**Now, let's look more carefully at our problem:**\n",
    "\n",
    "\\begin{align}\n",
    "& \\arg \\max_{\\lambda} \\min_\\theta \\mathcal{L(\\lambda, \\theta)} \\\\\n",
    "\\text{where: } & \\mathcal{L(\\lambda, \\theta)} = L({\\bf y}) + \\lambda^T \\max(0, g({\\bf y})) \\\\\n",
    "\\text{ with: } & {\\bf y} = f({\\bf x}; \\theta)\n",
    "\\end{align}\n",
    "\n",
    "**This is a _bi-level optimization problem_**\n",
    "\n",
    "It can be proved that it is _concave in $\\lambda$_\n",
    "\n",
    "* Therefore, it can be solved via _sub-gradient_ descent\n",
    "* ...Even for non-differentiable $L$, $g$, and $f$\n",
    "\n",
    "**By doing so, we increase $\\lambda$ only _when and where_ it is needed**\n",
    "\n",
    "* It is a _strong mitigation_ for the issues of the penalty method \n"
   ]
  },
  {
   "cell_type": "markdown",
   "metadata": {
    "slideshow": {
     "slide_type": "subslide"
    }
   },
   "source": [
    "## Lagrangian Dual Approach\n",
    "\n",
    "**If additionally $\\mathcal{L}(\\lambda, \\theta)$ is differentiable in $\\theta$**\n",
    "\n",
    "...Then we can solve the problem via alternate _gradient descent/ascent_:\n",
    "\n",
    "* $\\lambda^{(0)} = {\\bf 0}$\n",
    "* $\\theta^{(0)} = \\arg \\min_\\theta \\mathcal{L}(\\lambda^{(0)}, \\theta)$\n",
    "* For $k = 1..n$ (or until convergence):\n",
    "  - Obtain $\\lambda^{(k)}$ via an ascent step with sub-gradient $\\nabla_{\\lambda} \\mathcal{L}(\\lambda, \\theta^{(k-1)})$\n",
    "  - Obtain $\\theta^{(k)}$ via a descent step with sub-gradient $\\nabla_{\\theta} \\mathcal{L}(\\lambda^{(k)}, \\theta)$\n",
    "\n",
    "**The approach is easy to implement in tensorflow/PyTorch**\n",
    "\n",
    "We just need to use two optimization steps\n",
    "\n",
    "* It works since small changes to $\\lambda$\n",
    "* ...Usually require small changes to $\\theta$\n",
    "* Hence, we can maintain the two vectors approximately optimal "
   ]
  },
  {
   "cell_type": "markdown",
   "metadata": {
    "slideshow": {
     "slide_type": "subslide"
    }
   },
   "source": [
    "## References\n",
    "\n",
    "* [1] Diligenti, Michelangelo, Marco Gori, and Claudio Sacca. \"Semantic-based regularization for learning and inference.\" Artificial Intelligence 244 (2017): 143-165.\n",
    "* [2] Ferdinando Fioretto, Pascal Van Hentenryck, Terrence W. K. Mak, Cuong Tran, Federico Baldo, Michele Lombardi: Lagrangian Duality for Constrained Deep Learning. ECML/PKDD (5) 2020: 118-135"
   ]
  },
  {
   "cell_type": "markdown",
   "metadata": {
    "slideshow": {
     "slide_type": "slide"
    }
   },
   "source": [
    "# A Case Study: Fairness in Machine Learning"
   ]
  },
  {
   "cell_type": "markdown",
   "metadata": {
    "slideshow": {
     "slide_type": "subslide"
    }
   },
   "source": [
    "## Fairness Issues in Machine Learning\n",
    "\n",
    "**Say we want to estimate the risk of violent crimes in given population**\n",
    "\n",
    "<center><img src=\"assets/minority-report.jpg\" width=800px/></center>\n",
    "\n",
    "* This is obviously a very _ethically sensitive (and questionable) task_\n",
    "* Our model may easily end up discriminating some social groups\n",
    "\n",
    "**Which makes it a good test case for _fairness issues in data-driven models_**\n"
   ]
  },
  {
   "cell_type": "markdown",
   "metadata": {
    "slideshow": {
     "slide_type": "subslide"
    }
   },
   "source": [
    "## Loading and Preparing the Dataset\n",
    "\n",
    "**We will start by loading the [\"crime\" UCI dataset](https://archive.ics.uci.edu/ml/datasets/Communities+and+Crime)**\n",
    "\n",
    "We will use a pre-processed version:"
   ]
  },
  {
   "cell_type": "code",
   "execution_count": 2,
   "metadata": {
    "scrolled": false
   },
   "outputs": [
    {
     "data": {
      "text/html": [
       "<div>\n",
       "<style scoped>\n",
       "    .dataframe tbody tr th:only-of-type {\n",
       "        vertical-align: middle;\n",
       "    }\n",
       "\n",
       "    .dataframe tbody tr th {\n",
       "        vertical-align: top;\n",
       "    }\n",
       "\n",
       "    .dataframe thead th {\n",
       "        text-align: right;\n",
       "    }\n",
       "</style>\n",
       "<table border=\"1\" class=\"dataframe\">\n",
       "  <thead>\n",
       "    <tr style=\"text-align: right;\">\n",
       "      <th></th>\n",
       "      <th>communityname</th>\n",
       "      <th>state</th>\n",
       "      <th>fold</th>\n",
       "      <th>pop</th>\n",
       "      <th>race</th>\n",
       "      <th>pct12-21</th>\n",
       "      <th>pct12-29</th>\n",
       "      <th>pct16-24</th>\n",
       "      <th>pct65up</th>\n",
       "      <th>pctUrban</th>\n",
       "      <th>...</th>\n",
       "      <th>pctForeignBorn</th>\n",
       "      <th>pctBornStateResid</th>\n",
       "      <th>pctSameHouse-5</th>\n",
       "      <th>pctSameCounty-5</th>\n",
       "      <th>pctSameState-5</th>\n",
       "      <th>landArea</th>\n",
       "      <th>popDensity</th>\n",
       "      <th>pctUsePubTrans</th>\n",
       "      <th>pctOfficDrugUnit</th>\n",
       "      <th>violentPerPop</th>\n",
       "    </tr>\n",
       "  </thead>\n",
       "  <tbody>\n",
       "    <tr>\n",
       "      <th>1008</th>\n",
       "      <td>EastLampetertownship</td>\n",
       "      <td>PA</td>\n",
       "      <td>5</td>\n",
       "      <td>11999</td>\n",
       "      <td>0</td>\n",
       "      <td>0.1203</td>\n",
       "      <td>0.2544</td>\n",
       "      <td>0.1208</td>\n",
       "      <td>0.1302</td>\n",
       "      <td>0.5776</td>\n",
       "      <td>...</td>\n",
       "      <td>0.0288</td>\n",
       "      <td>0.8132</td>\n",
       "      <td>0.6033</td>\n",
       "      <td>0.8597</td>\n",
       "      <td>0.9219</td>\n",
       "      <td>20.7</td>\n",
       "      <td>580.7</td>\n",
       "      <td>0.0103</td>\n",
       "      <td>0.0000</td>\n",
       "      <td>147.49</td>\n",
       "    </tr>\n",
       "    <tr>\n",
       "      <th>1271</th>\n",
       "      <td>EastProvidencecity</td>\n",
       "      <td>RI</td>\n",
       "      <td>6</td>\n",
       "      <td>50380</td>\n",
       "      <td>0</td>\n",
       "      <td>0.1171</td>\n",
       "      <td>0.2459</td>\n",
       "      <td>0.1159</td>\n",
       "      <td>0.1660</td>\n",
       "      <td>1.0000</td>\n",
       "      <td>...</td>\n",
       "      <td>0.1474</td>\n",
       "      <td>0.6561</td>\n",
       "      <td>0.6557</td>\n",
       "      <td>0.8929</td>\n",
       "      <td>0.9252</td>\n",
       "      <td>13.9</td>\n",
       "      <td>3629.0</td>\n",
       "      <td>0.0357</td>\n",
       "      <td>0.0000</td>\n",
       "      <td>150.88</td>\n",
       "    </tr>\n",
       "    <tr>\n",
       "      <th>1936</th>\n",
       "      <td>Betheltown</td>\n",
       "      <td>CT</td>\n",
       "      <td>9</td>\n",
       "      <td>17541</td>\n",
       "      <td>0</td>\n",
       "      <td>0.1356</td>\n",
       "      <td>0.2507</td>\n",
       "      <td>0.1138</td>\n",
       "      <td>0.0804</td>\n",
       "      <td>0.8514</td>\n",
       "      <td>...</td>\n",
       "      <td>0.0853</td>\n",
       "      <td>0.4878</td>\n",
       "      <td>0.5953</td>\n",
       "      <td>0.8485</td>\n",
       "      <td>0.8689</td>\n",
       "      <td>17.4</td>\n",
       "      <td>1008.2</td>\n",
       "      <td>0.0252</td>\n",
       "      <td>0.0000</td>\n",
       "      <td>95.47</td>\n",
       "    </tr>\n",
       "    <tr>\n",
       "      <th>1601</th>\n",
       "      <td>Crowleycity</td>\n",
       "      <td>LA</td>\n",
       "      <td>8</td>\n",
       "      <td>13983</td>\n",
       "      <td>0</td>\n",
       "      <td>0.1506</td>\n",
       "      <td>0.2587</td>\n",
       "      <td>0.1234</td>\n",
       "      <td>0.1302</td>\n",
       "      <td>0.0000</td>\n",
       "      <td>...</td>\n",
       "      <td>0.0029</td>\n",
       "      <td>0.9314</td>\n",
       "      <td>0.5898</td>\n",
       "      <td>0.9219</td>\n",
       "      <td>0.9769</td>\n",
       "      <td>4.7</td>\n",
       "      <td>2957.5</td>\n",
       "      <td>0.0098</td>\n",
       "      <td>0.0000</td>\n",
       "      <td>1029.02</td>\n",
       "    </tr>\n",
       "    <tr>\n",
       "      <th>293</th>\n",
       "      <td>Pawtucketcity</td>\n",
       "      <td>RI</td>\n",
       "      <td>2</td>\n",
       "      <td>72644</td>\n",
       "      <td>0</td>\n",
       "      <td>0.1230</td>\n",
       "      <td>0.2725</td>\n",
       "      <td>0.1276</td>\n",
       "      <td>0.1464</td>\n",
       "      <td>1.0000</td>\n",
       "      <td>...</td>\n",
       "      <td>0.1771</td>\n",
       "      <td>0.6363</td>\n",
       "      <td>0.5807</td>\n",
       "      <td>0.8805</td>\n",
       "      <td>0.8906</td>\n",
       "      <td>9.1</td>\n",
       "      <td>8027.0</td>\n",
       "      <td>0.0318</td>\n",
       "      <td>0.1103</td>\n",
       "      <td>458.28</td>\n",
       "    </tr>\n",
       "  </tbody>\n",
       "</table>\n",
       "<p>5 rows × 101 columns</p>\n",
       "</div>"
      ],
      "text/plain": [
       "             communityname state  fold    pop  race  pct12-21  pct12-29  \\\n",
       "1008  EastLampetertownship    PA     5  11999     0    0.1203    0.2544   \n",
       "1271    EastProvidencecity    RI     6  50380     0    0.1171    0.2459   \n",
       "1936            Betheltown    CT     9  17541     0    0.1356    0.2507   \n",
       "1601           Crowleycity    LA     8  13983     0    0.1506    0.2587   \n",
       "293          Pawtucketcity    RI     2  72644     0    0.1230    0.2725   \n",
       "\n",
       "      pct16-24  pct65up  pctUrban  ...  pctForeignBorn  pctBornStateResid  \\\n",
       "1008    0.1208   0.1302    0.5776  ...          0.0288             0.8132   \n",
       "1271    0.1159   0.1660    1.0000  ...          0.1474             0.6561   \n",
       "1936    0.1138   0.0804    0.8514  ...          0.0853             0.4878   \n",
       "1601    0.1234   0.1302    0.0000  ...          0.0029             0.9314   \n",
       "293     0.1276   0.1464    1.0000  ...          0.1771             0.6363   \n",
       "\n",
       "      pctSameHouse-5  pctSameCounty-5  pctSameState-5  landArea  popDensity  \\\n",
       "1008          0.6033           0.8597          0.9219      20.7       580.7   \n",
       "1271          0.6557           0.8929          0.9252      13.9      3629.0   \n",
       "1936          0.5953           0.8485          0.8689      17.4      1008.2   \n",
       "1601          0.5898           0.9219          0.9769       4.7      2957.5   \n",
       "293           0.5807           0.8805          0.8906       9.1      8027.0   \n",
       "\n",
       "      pctUsePubTrans  pctOfficDrugUnit  violentPerPop  \n",
       "1008          0.0103            0.0000         147.49  \n",
       "1271          0.0357            0.0000         150.88  \n",
       "1936          0.0252            0.0000          95.47  \n",
       "1601          0.0098            0.0000        1029.02  \n",
       "293           0.0318            0.1103         458.28  \n",
       "\n",
       "[5 rows x 101 columns]"
      ]
     },
     "execution_count": 2,
     "metadata": {},
     "output_type": "execute_result"
    }
   ],
   "source": [
    "data = cst.load_communities_data(data_folder)\n",
    "attributes = data.columns[3:-1]\n",
    "target = data.columns[-1]\n",
    "data.head()"
   ]
  },
  {
   "cell_type": "markdown",
   "metadata": {},
   "source": [
    "The target is \"violentPerPop\" (number of violent offenders per 100K people)"
   ]
  },
  {
   "cell_type": "markdown",
   "metadata": {
    "slideshow": {
     "slide_type": "subslide"
    }
   },
   "source": [
    "## Loading and Preparing the Dataset\n",
    "\n",
    "**We prepare for normalizing all numeric attributes**\n",
    "\n",
    "* The only categorical input is \"race\" (0 = primarily white, 1 = primarily black)\n",
    "* Incidentally, \"race\" is _a natural focus to check for discrimination_\n",
    "\n",
    "**We define the train-test divide and we identify the numerical inputs**"
   ]
  },
  {
   "cell_type": "code",
   "execution_count": 3,
   "metadata": {},
   "outputs": [],
   "source": [
    "tr_frac = 0.8 # 80% data for training\n",
    "tr_sep = int(len(data) * tr_frac)\n",
    "nf = [a for a in attributes if a != 'race'] + [target]"
   ]
  },
  {
   "cell_type": "markdown",
   "metadata": {},
   "source": [
    "We compute the normalization constants and we transform the data"
   ]
  },
  {
   "cell_type": "code",
   "execution_count": 4,
   "metadata": {},
   "outputs": [],
   "source": [
    "tmp = data.iloc[:tr_sep]\n",
    "scale = tmp[nf].max()\n",
    "sdata = data.copy()\n",
    "sdata[nf] /= scale[nf]"
   ]
  },
  {
   "cell_type": "markdown",
   "metadata": {},
   "source": [
    "Then we convert all data to a \"float32\" format (for tensorflow compatibility)"
   ]
  },
  {
   "cell_type": "code",
   "execution_count": 22,
   "metadata": {},
   "outputs": [],
   "source": [
    "sdata[attributes] = sdata[attributes].astype(np.float32)\n",
    "sdata[target] = sdata[target].astype(np.float32)"
   ]
  },
  {
   "cell_type": "markdown",
   "metadata": {
    "slideshow": {
     "slide_type": "subslide"
    }
   },
   "source": [
    "## Loading and Preparing the Dataset\n",
    "\n",
    "**Finally we can separate the training and test set**"
   ]
  },
  {
   "cell_type": "code",
   "execution_count": 5,
   "metadata": {},
   "outputs": [
    {
     "data": {
      "text/html": [
       "<div>\n",
       "<style scoped>\n",
       "    .dataframe tbody tr th:only-of-type {\n",
       "        vertical-align: middle;\n",
       "    }\n",
       "\n",
       "    .dataframe tbody tr th {\n",
       "        vertical-align: top;\n",
       "    }\n",
       "\n",
       "    .dataframe thead th {\n",
       "        text-align: right;\n",
       "    }\n",
       "</style>\n",
       "<table border=\"1\" class=\"dataframe\">\n",
       "  <thead>\n",
       "    <tr style=\"text-align: right;\">\n",
       "      <th></th>\n",
       "      <th>fold</th>\n",
       "      <th>pop</th>\n",
       "      <th>race</th>\n",
       "      <th>pct12-21</th>\n",
       "      <th>pct12-29</th>\n",
       "      <th>pct16-24</th>\n",
       "      <th>pct65up</th>\n",
       "      <th>pctUrban</th>\n",
       "      <th>medIncome</th>\n",
       "      <th>pctWwage</th>\n",
       "      <th>...</th>\n",
       "      <th>pctForeignBorn</th>\n",
       "      <th>pctBornStateResid</th>\n",
       "      <th>pctSameHouse-5</th>\n",
       "      <th>pctSameCounty-5</th>\n",
       "      <th>pctSameState-5</th>\n",
       "      <th>landArea</th>\n",
       "      <th>popDensity</th>\n",
       "      <th>pctUsePubTrans</th>\n",
       "      <th>pctOfficDrugUnit</th>\n",
       "      <th>violentPerPop</th>\n",
       "    </tr>\n",
       "  </thead>\n",
       "  <tbody>\n",
       "    <tr>\n",
       "      <th>count</th>\n",
       "      <td>1594.000000</td>\n",
       "      <td>1594.000000</td>\n",
       "      <td>1594.000000</td>\n",
       "      <td>1594.000000</td>\n",
       "      <td>1594.000000</td>\n",
       "      <td>1594.000000</td>\n",
       "      <td>1594.000000</td>\n",
       "      <td>1594.000000</td>\n",
       "      <td>1594.000000</td>\n",
       "      <td>1594.000000</td>\n",
       "      <td>...</td>\n",
       "      <td>1594.000000</td>\n",
       "      <td>1594.000000</td>\n",
       "      <td>1594.000000</td>\n",
       "      <td>1594.000000</td>\n",
       "      <td>1594.000000</td>\n",
       "      <td>1594.000000</td>\n",
       "      <td>1594.000000</td>\n",
       "      <td>1594.000000</td>\n",
       "      <td>1594.000000</td>\n",
       "      <td>1594.000000</td>\n",
       "    </tr>\n",
       "    <tr>\n",
       "      <th>mean</th>\n",
       "      <td>5.515056</td>\n",
       "      <td>0.007309</td>\n",
       "      <td>0.031995</td>\n",
       "      <td>0.266962</td>\n",
       "      <td>0.398600</td>\n",
       "      <td>0.230577</td>\n",
       "      <td>0.226739</td>\n",
       "      <td>0.695383</td>\n",
       "      <td>0.272795</td>\n",
       "      <td>0.808877</td>\n",
       "      <td>...</td>\n",
       "      <td>0.126063</td>\n",
       "      <td>0.649192</td>\n",
       "      <td>0.651699</td>\n",
       "      <td>0.796561</td>\n",
       "      <td>0.886649</td>\n",
       "      <td>0.009499</td>\n",
       "      <td>0.062829</td>\n",
       "      <td>0.057092</td>\n",
       "      <td>0.021317</td>\n",
       "      <td>0.118508</td>\n",
       "    </tr>\n",
       "    <tr>\n",
       "      <th>std</th>\n",
       "      <td>2.912637</td>\n",
       "      <td>0.030287</td>\n",
       "      <td>0.176042</td>\n",
       "      <td>0.084005</td>\n",
       "      <td>0.090329</td>\n",
       "      <td>0.098553</td>\n",
       "      <td>0.091256</td>\n",
       "      <td>0.445105</td>\n",
       "      <td>0.108972</td>\n",
       "      <td>0.081297</td>\n",
       "      <td>...</td>\n",
       "      <td>0.144243</td>\n",
       "      <td>0.183083</td>\n",
       "      <td>0.135358</td>\n",
       "      <td>0.112796</td>\n",
       "      <td>0.077034</td>\n",
       "      <td>0.028955</td>\n",
       "      <td>0.065060</td>\n",
       "      <td>0.092881</td>\n",
       "      <td>0.061344</td>\n",
       "      <td>0.123444</td>\n",
       "    </tr>\n",
       "    <tr>\n",
       "      <th>min</th>\n",
       "      <td>1.000000</td>\n",
       "      <td>0.001368</td>\n",
       "      <td>0.000000</td>\n",
       "      <td>0.084191</td>\n",
       "      <td>0.134635</td>\n",
       "      <td>0.075644</td>\n",
       "      <td>0.031457</td>\n",
       "      <td>0.000000</td>\n",
       "      <td>0.104413</td>\n",
       "      <td>0.327882</td>\n",
       "      <td>...</td>\n",
       "      <td>0.003182</td>\n",
       "      <td>0.072472</td>\n",
       "      <td>0.150586</td>\n",
       "      <td>0.289367</td>\n",
       "      <td>0.332187</td>\n",
       "      <td>0.000335</td>\n",
       "      <td>0.000226</td>\n",
       "      <td>0.000000</td>\n",
       "      <td>0.000000</td>\n",
       "      <td>0.001097</td>\n",
       "    </tr>\n",
       "    <tr>\n",
       "      <th>25%</th>\n",
       "      <td>3.000000</td>\n",
       "      <td>0.001943</td>\n",
       "      <td>0.000000</td>\n",
       "      <td>0.225230</td>\n",
       "      <td>0.350689</td>\n",
       "      <td>0.185238</td>\n",
       "      <td>0.167614</td>\n",
       "      <td>0.000000</td>\n",
       "      <td>0.190973</td>\n",
       "      <td>0.759677</td>\n",
       "      <td>...</td>\n",
       "      <td>0.035541</td>\n",
       "      <td>0.525016</td>\n",
       "      <td>0.566446</td>\n",
       "      <td>0.743167</td>\n",
       "      <td>0.854675</td>\n",
       "      <td>0.002754</td>\n",
       "      <td>0.026280</td>\n",
       "      <td>0.006672</td>\n",
       "      <td>0.000000</td>\n",
       "      <td>0.032800</td>\n",
       "    </tr>\n",
       "    <tr>\n",
       "      <th>50%</th>\n",
       "      <td>5.000000</td>\n",
       "      <td>0.003035</td>\n",
       "      <td>0.000000</td>\n",
       "      <td>0.250919</td>\n",
       "      <td>0.385173</td>\n",
       "      <td>0.205575</td>\n",
       "      <td>0.223138</td>\n",
       "      <td>1.000000</td>\n",
       "      <td>0.249509</td>\n",
       "      <td>0.813755</td>\n",
       "      <td>...</td>\n",
       "      <td>0.075352</td>\n",
       "      <td>0.669369</td>\n",
       "      <td>0.658096</td>\n",
       "      <td>0.819391</td>\n",
       "      <td>0.905697</td>\n",
       "      <td>0.005099</td>\n",
       "      <td>0.045234</td>\n",
       "      <td>0.022823</td>\n",
       "      <td>0.000000</td>\n",
       "      <td>0.076430</td>\n",
       "    </tr>\n",
       "    <tr>\n",
       "      <th>75%</th>\n",
       "      <td>8.000000</td>\n",
       "      <td>0.005922</td>\n",
       "      <td>0.000000</td>\n",
       "      <td>0.283824</td>\n",
       "      <td>0.419908</td>\n",
       "      <td>0.235735</td>\n",
       "      <td>0.275298</td>\n",
       "      <td>1.000000</td>\n",
       "      <td>0.334641</td>\n",
       "      <td>0.866125</td>\n",
       "      <td>...</td>\n",
       "      <td>0.155517</td>\n",
       "      <td>0.798529</td>\n",
       "      <td>0.744017</td>\n",
       "      <td>0.875764</td>\n",
       "      <td>0.938556</td>\n",
       "      <td>0.009667</td>\n",
       "      <td>0.074085</td>\n",
       "      <td>0.064651</td>\n",
       "      <td>0.000000</td>\n",
       "      <td>0.159716</td>\n",
       "    </tr>\n",
       "    <tr>\n",
       "      <th>max</th>\n",
       "      <td>10.000000</td>\n",
       "      <td>1.000000</td>\n",
       "      <td>1.000000</td>\n",
       "      <td>1.000000</td>\n",
       "      <td>1.000000</td>\n",
       "      <td>1.000000</td>\n",
       "      <td>1.000000</td>\n",
       "      <td>1.000000</td>\n",
       "      <td>1.000000</td>\n",
       "      <td>1.000000</td>\n",
       "      <td>...</td>\n",
       "      <td>1.000000</td>\n",
       "      <td>1.000000</td>\n",
       "      <td>1.000000</td>\n",
       "      <td>1.000000</td>\n",
       "      <td>1.000000</td>\n",
       "      <td>1.000000</td>\n",
       "      <td>1.000000</td>\n",
       "      <td>1.000000</td>\n",
       "      <td>1.000000</td>\n",
       "      <td>1.000000</td>\n",
       "    </tr>\n",
       "  </tbody>\n",
       "</table>\n",
       "<p>8 rows × 99 columns</p>\n",
       "</div>"
      ],
      "text/plain": [
       "              fold          pop         race     pct12-21     pct12-29  \\\n",
       "count  1594.000000  1594.000000  1594.000000  1594.000000  1594.000000   \n",
       "mean      5.515056     0.007309     0.031995     0.266962     0.398600   \n",
       "std       2.912637     0.030287     0.176042     0.084005     0.090329   \n",
       "min       1.000000     0.001368     0.000000     0.084191     0.134635   \n",
       "25%       3.000000     0.001943     0.000000     0.225230     0.350689   \n",
       "50%       5.000000     0.003035     0.000000     0.250919     0.385173   \n",
       "75%       8.000000     0.005922     0.000000     0.283824     0.419908   \n",
       "max      10.000000     1.000000     1.000000     1.000000     1.000000   \n",
       "\n",
       "          pct16-24      pct65up     pctUrban    medIncome     pctWwage  ...  \\\n",
       "count  1594.000000  1594.000000  1594.000000  1594.000000  1594.000000  ...   \n",
       "mean      0.230577     0.226739     0.695383     0.272795     0.808877  ...   \n",
       "std       0.098553     0.091256     0.445105     0.108972     0.081297  ...   \n",
       "min       0.075644     0.031457     0.000000     0.104413     0.327882  ...   \n",
       "25%       0.185238     0.167614     0.000000     0.190973     0.759677  ...   \n",
       "50%       0.205575     0.223138     1.000000     0.249509     0.813755  ...   \n",
       "75%       0.235735     0.275298     1.000000     0.334641     0.866125  ...   \n",
       "max       1.000000     1.000000     1.000000     1.000000     1.000000  ...   \n",
       "\n",
       "       pctForeignBorn  pctBornStateResid  pctSameHouse-5  pctSameCounty-5  \\\n",
       "count     1594.000000        1594.000000     1594.000000      1594.000000   \n",
       "mean         0.126063           0.649192        0.651699         0.796561   \n",
       "std          0.144243           0.183083        0.135358         0.112796   \n",
       "min          0.003182           0.072472        0.150586         0.289367   \n",
       "25%          0.035541           0.525016        0.566446         0.743167   \n",
       "50%          0.075352           0.669369        0.658096         0.819391   \n",
       "75%          0.155517           0.798529        0.744017         0.875764   \n",
       "max          1.000000           1.000000        1.000000         1.000000   \n",
       "\n",
       "       pctSameState-5     landArea   popDensity  pctUsePubTrans  \\\n",
       "count     1594.000000  1594.000000  1594.000000     1594.000000   \n",
       "mean         0.886649     0.009499     0.062829        0.057092   \n",
       "std          0.077034     0.028955     0.065060        0.092881   \n",
       "min          0.332187     0.000335     0.000226        0.000000   \n",
       "25%          0.854675     0.002754     0.026280        0.006672   \n",
       "50%          0.905697     0.005099     0.045234        0.022823   \n",
       "75%          0.938556     0.009667     0.074085        0.064651   \n",
       "max          1.000000     1.000000     1.000000        1.000000   \n",
       "\n",
       "       pctOfficDrugUnit  violentPerPop  \n",
       "count       1594.000000    1594.000000  \n",
       "mean           0.021317       0.118508  \n",
       "std            0.061344       0.123444  \n",
       "min            0.000000       0.001097  \n",
       "25%            0.000000       0.032800  \n",
       "50%            0.000000       0.076430  \n",
       "75%            0.000000       0.159716  \n",
       "max            1.000000       1.000000  \n",
       "\n",
       "[8 rows x 99 columns]"
      ]
     },
     "execution_count": 5,
     "metadata": {},
     "output_type": "execute_result"
    }
   ],
   "source": [
    "tr = sdata.iloc[:tr_sep]\n",
    "ts = sdata.iloc[tr_sep:]\n",
    "tr.describe()"
   ]
  },
  {
   "cell_type": "markdown",
   "metadata": {
    "slideshow": {
     "slide_type": "subslide"
    }
   },
   "source": [
    "## Baseline\n",
    "\n",
    "**Let's establish a baseline by tackling the task via Linear Regression**"
   ]
  },
  {
   "cell_type": "code",
   "execution_count": 6,
   "metadata": {},
   "outputs": [
    {
     "data": {
      "application/vnd.jupyter.widget-view+json": {
       "model_id": "e470717b80cf4aabaa7b39e7f47223d7",
       "version_major": 2,
       "version_minor": 0
      },
      "text/html": [
       "\n",
       "            <div style=\"display: inline-block;\">\n",
       "                <div class=\"jupyter-widgets widget-label\" style=\"text-align: center;\">\n",
       "                    Figure\n",
       "                </div>\n",
       "                <img src='data:image/png;base64,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' width=900.0/>\n",
       "            </div>\n",
       "        "
      ],
      "text/plain": [
       "Canvas(toolbar=Toolbar(toolitems=[('Home', 'Reset original view', 'home', 'home'), ('Back', 'Back to previous …"
      ]
     },
     "metadata": {},
     "output_type": "display_data"
    }
   ],
   "source": [
    "nn = cst.MLPRegressor(input_shape=len(attributes), hidden=[])\n",
    "nn.compile(optimizer='Adam', loss='mse')\n",
    "cb = [callbacks.EarlyStopping(patience=10, restore_best_weights=True)]\n",
    "history = nn.fit(tr[attributes], tr[target], batch_size=32, epochs=200, verbose=0,\n",
    "                 validation_split=0.2, callbacks=cb)\n",
    "cst.plot_training_history(history)"
   ]
  },
  {
   "cell_type": "markdown",
   "metadata": {
    "slideshow": {
     "slide_type": "subslide"
    }
   },
   "source": [
    "## Baseline Evaluation\n",
    "\n",
    "**...And let's check the results**"
   ]
  },
  {
   "cell_type": "code",
   "execution_count": 7,
   "metadata": {},
   "outputs": [
    {
     "name": "stdout",
     "output_type": "stream",
     "text": [
      "R2 score: 0.61 (training), 0.55 (test)\n",
      "MAE: 0.05 (training), 0.06 (test)\n"
     ]
    }
   ],
   "source": [
    "tr_pred = nn.predict(tr[attributes])\n",
    "r2_tr = r2_score(tr[target], tr_pred)\n",
    "mae_tr = mean_absolute_error(tr[target], tr_pred)\n",
    "\n",
    "ts_pred = nn.predict(ts[attributes])\n",
    "r2_ts = r2_score(ts[target], ts_pred)\n",
    "mae_ts = mean_absolute_error(ts[target], ts_pred)\n",
    "\n",
    "print(f'R2 score: {r2_tr:.2f} (training), {r2_ts:.2f} (test)')\n",
    "print(f'MAE: {mae_tr:.2f} (training), {mae_ts:.2f} (test)')"
   ]
  },
  {
   "cell_type": "markdown",
   "metadata": {},
   "source": [
    "* They are not super (definitely not [PreCrime](https://en.wikipedia.org/wiki/Minority_Report_(film)) level), but not alwful either\n",
    "* Some improvements (not much) can be obtained with a Deeper model\n",
    "\n",
    "**We will keep Linear Regression as a baseline**"
   ]
  },
  {
   "cell_type": "markdown",
   "metadata": {
    "slideshow": {
     "slide_type": "slide"
    }
   },
   "source": [
    "# Fairness Constraints"
   ]
  },
  {
   "cell_type": "markdown",
   "metadata": {
    "slideshow": {
     "slide_type": "subslide"
    }
   },
   "source": [
    "## Discrimination Indexes\n",
    "\n",
    "**Discrimination can be linked to _disparate treatment_**\n",
    "\n",
    "* \"race\" _may not be even among the input attributes_\n",
    "* ...And yet it may be taken into account implicitly (i.e. via correlates)\n",
    "\n",
    "**But we can check whether the model _treats differently different groups_:**\n"
   ]
  },
  {
   "cell_type": "code",
   "execution_count": 8,
   "metadata": {},
   "outputs": [
    {
     "data": {
      "application/vnd.jupyter.widget-view+json": {
       "model_id": "986b8e0290ed49deadf4ded258acc304",
       "version_major": 2,
       "version_minor": 0
      },
      "text/html": [
       "\n",
       "            <div style=\"display: inline-block;\">\n",
       "                <div class=\"jupyter-widgets widget-label\" style=\"text-align: center;\">\n",
       "                    Figure\n",
       "                </div>\n",
       "                <img src='data:image/png;base64,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' width=900.0/>\n",
       "            </div>\n",
       "        "
      ],
      "text/plain": [
       "Canvas(toolbar=Toolbar(toolitems=[('Home', 'Reset original view', 'home', 'home'), ('Back', 'Back to previous …"
      ]
     },
     "metadata": {},
     "output_type": "display_data"
    }
   ],
   "source": [
    "protected = {'race': (0, 1)}\n",
    "cst.plot_pred_by_protected(tr, tr_pred, protected, figsize=(figsize[0], 0.8*figsize[1]))"
   ]
  },
  {
   "cell_type": "markdown",
   "metadata": {},
   "source": [
    "Indeed, our model has a significant degree of discrimination"
   ]
  },
  {
   "cell_type": "markdown",
   "metadata": {
    "slideshow": {
     "slide_type": "subslide"
    }
   },
   "source": [
    "## Discrimination Indexes\n",
    "\n",
    "**A number of _discrimination indexes_ attempt to measure discrimination**\n",
    "\n",
    "* Whether ethics itself can be measured is _highly debatable_!\n",
    "* ...But even if imperfect, this currently the best we can do\n",
    "\n",
    "**We will use the Disparate Impact Discrimination Index**\n",
    "\n",
    "...Which was introduced in a [AAAI paper](https://www.aaai.org/ojs/index.php/AAAI/article/download/3943/3821)\n",
    "\n",
    "* Given a set of categorical _protected attribute (indexes) $J_p$_\n",
    "* ...The regression for of the regression form of the index ($\\text{DIDI}_r$) is given by:\n",
    "\n",
    "$$\n",
    "\\sum_{j \\in J_p} \\sum_{v \\in D_{j}} \\left|\\frac{1}{m} \\sum_{i=1}^m y_i - \\frac{1}{|I_{j,v}|} \\sum_{i \\in I_{j,v}} y_{i}\\right|\n",
    "$$\n",
    "\n",
    "* Where $D_j$ is the domain of attribute $j$\n",
    "* ...And $I_{j,v}$ is the set of example such that attribute $j$ has value $v$\n",
    "\n",
    "\n"
   ]
  },
  {
   "cell_type": "markdown",
   "metadata": {
    "slideshow": {
     "slide_type": "subslide"
    }
   },
   "source": [
    "## DIDI\n",
    "\n",
    "**Let's make some intuitive sense of the $\\text{DIDI}_r$ formula**\n",
    "\n",
    "$$\n",
    "\\sum_{j \\in J_p} \\sum_{v \\in D_{j}} \\left|\\frac{1}{m} \\sum_{i=1}^m y_i - \\frac{1}{|I_{j,v}|} \\sum_{i \\in I_{j,v}} y_{i}\\right|\n",
    "$$\n",
    "\n",
    "* $\\frac{1}{m} \\sum_{i=1}^m y_i$ is just the average predicted value\n",
    "* The protected attribute defines social groups\n",
    "* $\\frac{1}{|I_{j,v}|} \\sum_{i \\in I_{j,v}} y_{i}$ is the average prediction for a social group\n",
    "\n",
    "**We penalize _deviations from the global average_**\n",
    "\n",
    "* Obviously this is not necessarily the best definition, but it is something\n",
    "* In general, different tasks will call for different discrimination indexes\n",
    "\n",
    "...And don't forget the whole \"can we actually measure ethics\" issue ;-)"
   ]
  },
  {
   "cell_type": "markdown",
   "metadata": {
    "slideshow": {
     "slide_type": "subslide"
    }
   },
   "source": [
    "## DIDI\n",
    "\n",
    "**We can compute the DIDI via the following function**\n",
    "\n",
    "```python\n",
    "def DIDI_r(data, pred, protected):\n",
    "    res, avg = 0, np.mean(pred)\n",
    "    for aname, dom in protected.items():\n",
    "        for val in dom:\n",
    "            mask = (data[aname] == val)\n",
    "            res += abs(avg - np.mean(pred[mask]))\n",
    "    return res\n",
    "```\n",
    "\n",
    "* `protected` contains the protected attribute names with their domain\n",
    "\n",
    "**For our original Linear Regression model, we get**"
   ]
  },
  {
   "cell_type": "code",
   "execution_count": 9,
   "metadata": {},
   "outputs": [
    {
     "name": "stdout",
     "output_type": "stream",
     "text": [
      "DIDI: 0.25 (training), 0.25 (test)\n"
     ]
    }
   ],
   "source": [
    "tr_DIDI = cst.DIDI_r(tr, tr_pred, protected)\n",
    "ts_DIDI = cst.DIDI_r(ts, ts_pred, protected)\n",
    "print(f'DIDI: {tr_DIDI:.2f} (training), {ts_DIDI:.2f} (test)')"
   ]
  },
  {
   "cell_type": "markdown",
   "metadata": {},
   "source": [
    "This is our baseline discrimination level"
   ]
  },
  {
   "cell_type": "markdown",
   "metadata": {
    "slideshow": {
     "slide_type": "subslide"
    }
   },
   "source": [
    "## Fairness Constraints\n",
    "\n",
    "**Discrimination indexes can be used to state fairness constraints**\n",
    "\n",
    "For example, we may require:\n",
    "$$\n",
    "\\text{DIDI}_r(y) \\leq \\theta\n",
    "$$\n",
    "\n",
    "**If the chosen index is _differentiable_...**\n",
    "\n",
    "...Then we may try to inject the constraint in a NN via a _semantic regularizer_\n",
    "\n",
    "* For example, we may use a loss function in the form:\n",
    "$$\n",
    "L(y, \\hat{y}) + \\lambda \\max(0, \\text{DIDI}_r(y) - \\theta)\n",
    "$$\n",
    "\n",
    "For non-differentiable indexes (e.g. those found in classification), we can:\n",
    "\n",
    "* Use a differentiable approximation (with some care!)\n",
    "* Use an approach that does not require differentiability, e.g. [this](https://arxiv.org/abs/2002.10766) or [that](https://link.springer.com/content/pdf/10.1007/s10115-011-0463-8.pdf)\n",
    "\n"
   ]
  },
  {
   "cell_type": "markdown",
   "metadata": {
    "slideshow": {
     "slide_type": "subslide"
    }
   },
   "source": [
    "## Fairness as a Semantic Regularizer\n",
    "\n",
    "**We can once again use a custom Keras model**\n",
    "\n",
    "```python\n",
    "class CstDIDIRegressor(MLPRegressor):\n",
    "    def __init__(self, attributes, protected, alpha, thr, hidden=[]): ...\n",
    "\n",
    "    def train_step(self, data): ...\n",
    "\n",
    "    @property\n",
    "    def metrics(self): ...\n",
    "```\n",
    "\n",
    "The full code can be found in the support module\n",
    "\n",
    "* We subclass our `MLPRegressor` (itself a subclass of `keras.Model`)\n",
    "* ...And we provide a custom training step\n",
    "* `alpha` is the regularizer weight\n",
    "* `thr` is the DIDI threshold\n",
    "\n",
    "In this case, we do not need a custom batch generator"
   ]
  },
  {
   "cell_type": "markdown",
   "metadata": {
    "slideshow": {
     "slide_type": "subslide"
    }
   },
   "source": [
    "## Fairness as a Semantic Regularizer\n",
    "\n",
    "**The main logic is in the first half of the `train_step` method:**\n",
    "\n",
    "```python\n",
    "def train_step(self, data):\n",
    "    x, y_true = data # unpacking the mini-batch\n",
    "    with tf.GradientTape() as tape:\n",
    "        y_pred = self(x, training=True) # obtain predictions\n",
    "        mse = self.compiled_loss(y_true, y_pred) # base loss (kept external)\n",
    "        ymean = k.mean(y_pred) # avg prediction\n",
    "        didi = 0 # DIDI computation\n",
    "        for aidx, dom in self.protected.items():\n",
    "            for val in dom:\n",
    "                mask = (x[:, aidx] == val)\n",
    "                didi += k.abs(ymean - k.mean(y_pred[mask]))\n",
    "        cst = k.maximum(0.0, didi - self.thr) # Regularizer\n",
    "        loss = mse + self.alpha * cst\n",
    "```\n",
    "\n",
    "* In this case we chose to let the main loss be defined externally\n",
    "* ...Which means we will need to define it when calling `compile`"
   ]
  },
  {
   "cell_type": "markdown",
   "metadata": {
    "slideshow": {
     "slide_type": "subslide"
    }
   },
   "source": [
    "## Training the Constrained Model\n",
    "\n",
    "**Let's try and train the model, trying to roughly halve the DIDI**\n",
    "\n",
    "Important: it will be a good idea to need to keep all examples in every batch\n",
    "\n",
    "* Mini-batches can be used, but make constraint satisfaction (more) stochastic"
   ]
  },
  {
   "cell_type": "code",
   "execution_count": 10,
   "metadata": {
    "scrolled": true
   },
   "outputs": [
    {
     "data": {
      "application/vnd.jupyter.widget-view+json": {
       "model_id": "926513344f91484f938fdaae7f425a16",
       "version_major": 2,
       "version_minor": 0
      },
      "text/html": [
       "\n",
       "            <div style=\"display: inline-block;\">\n",
       "                <div class=\"jupyter-widgets widget-label\" style=\"text-align: center;\">\n",
       "                    Figure\n",
       "                </div>\n",
       "                <img src='data:image/png;base64,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' width=900.0/>\n",
       "            </div>\n",
       "        "
      ],
      "text/plain": [
       "Canvas(toolbar=Toolbar(toolitems=[('Home', 'Reset original view', 'home', 'home'), ('Back', 'Back to previous …"
      ]
     },
     "metadata": {},
     "output_type": "display_data"
    }
   ],
   "source": [
    "didi_thr = 0.13\n",
    "nn3 = cst.CstDIDIRegressor(attributes, protected, alpha=5, thr=didi_thr, hidden=[])\n",
    "\n",
    "nn3.compile(optimizer='Adam', loss='mse')\n",
    "history3 = nn3.fit(tr[attributes], tr[target], batch_size=len(tr), epochs=3000, verbose=0)\n",
    "cst.plot_training_history(history3)"
   ]
  },
  {
   "cell_type": "markdown",
   "metadata": {
    "slideshow": {
     "slide_type": "subslide"
    }
   },
   "source": [
    "## Constrained Model Evaluation\n",
    "\n",
    "**Let's check both the prediction quality and the DIDI**"
   ]
  },
  {
   "cell_type": "code",
   "execution_count": 11,
   "metadata": {},
   "outputs": [
    {
     "name": "stdout",
     "output_type": "stream",
     "text": [
      "R2 score: 0.51 (training), 0.45 (test)\n",
      "MAE: 0.06 (training), 0.07 (test)\n",
      "DIDI: 0.11 (training), 0.10 (test)\n"
     ]
    }
   ],
   "source": [
    "tr_pred3 = nn3.predict(tr[attributes])\n",
    "r2_tr3 = r2_score(tr[target], tr_pred3)\n",
    "mae_tr3 = mean_absolute_error(tr[target], tr_pred3)\n",
    "\n",
    "ts_pred3 = nn3.predict(ts[attributes])\n",
    "r2_ts3 = r2_score(ts[target], ts_pred3)\n",
    "mae_ts3 = mean_absolute_error(ts[target], ts_pred3)\n",
    "\n",
    "tr_DIDI3 = cst.DIDI_r(tr, tr_pred3, protected)\n",
    "ts_DIDI3 = cst.DIDI_r(ts, ts_pred3, protected)\n",
    "\n",
    "print(f'R2 score: {r2_tr3:.2f} (training), {r2_ts3:.2f} (test)')\n",
    "print(f'MAE: {mae_tr3:.2f} (training), {mae_ts3:.2f} (test)')\n",
    "print(f'DIDI: {tr_DIDI3:.2f} (training), {ts_DIDI3:.2f} (test)')"
   ]
  },
  {
   "cell_type": "markdown",
   "metadata": {},
   "source": [
    "* The constraint is satisfied _with some slack_, leading to reduced performance\n",
    "\n",
    "**The issue is related to the choice of the _correct regularizer weight_**\n"
   ]
  },
  {
   "cell_type": "markdown",
   "metadata": {
    "slideshow": {
     "slide_type": "subslide"
    }
   },
   "source": [
    "## Implementing the Lagrangian Dual Approach\n",
    "\n",
    "**We will implement the Lagrangian dual approach via another custom model**\n",
    "\n",
    "```python\n",
    "class LagDualDIDIRegressor(MLPRegressor):\n",
    "    def __init__(self, attributes, protected, thr, hidden=[]):\n",
    "        super(LagDualDIDIRegressor, self).__init__(len(attributes), hidden)\n",
    "        self.alpha = tf.Variable(0., name='alpha')\n",
    "        ...\n",
    "\n",
    "    def __custom_loss(self, x, y_true, sign=1): ...\n",
    "\n",
    "    def train_step(self, data): ...\n",
    "        \n",
    "    def metrics(self): ...\n",
    "```\n",
    "\n",
    "* We no longer pass a fixed `alpha` weight/multiplier\n",
    "* Instead we use a _trainable variable_"
   ]
  },
  {
   "cell_type": "markdown",
   "metadata": {
    "slideshow": {
     "slide_type": "subslide"
    }
   },
   "source": [
    "## Implementing the Lagrangian Dual Approach\n",
    "\n",
    "**In the `__custom_loss` method we compute the Lagrangian/regularized loss**\n",
    "\n",
    "```python\n",
    "def __custom_loss(self, x, y_true, sign=1):\n",
    "    y_pred = self(x, training=True) # obtain the predictions\n",
    "    mse = self.compiled_loss(y_true, y_pred) # main loss\n",
    "    ymean = k.mean(y_pred) # average prediction\n",
    "    didi = 0 # DIDI computation\n",
    "    for aidx, dom in self.protected.items():\n",
    "        for val in dom:\n",
    "            mask = (x[:, aidx] == val)\n",
    "            didi += k.abs(ymean - k.mean(y_pred[mask]))\n",
    "    cst = k.maximum(0.0, didi - self.thr) # regularizer\n",
    "    loss = mse + self.alpha * cst\n",
    "    return sign*loss, mse, cst\n",
    "```\n",
    "\n",
    "* The code is the same as before\n",
    "* ...Except that we can flip the loss sign via a function argument (i.e. `sign`)"
   ]
  },
  {
   "cell_type": "markdown",
   "metadata": {
    "slideshow": {
     "slide_type": "subslide"
    }
   },
   "source": [
    "## Implementing the Lagrangian Dual Approach\n",
    "\n",
    "**In the training method, we make _two distinct gradient steps:_**\n",
    "\n",
    "```python\n",
    "    def train_step(self, data):\n",
    "        x, y_true = data # unpacking\n",
    "        with tf.GradientTape() as tape: # first loss (minimization)\n",
    "            loss, mse, cst = self.__custom_loss(x, y_true, sign=1)\n",
    "        # Separate training variables\n",
    "        tr_vars = self.trainable_variables\n",
    "        wgt_vars = tr_vars[:-1] # network weights\n",
    "        mul_vars = tr_vars[-1:] # multiplier\n",
    "        grads = tape.gradient(loss, wgt_vars) # adjust the network weights\n",
    "        self.optimizer.apply_gradients(zip(grads, wgt_vars))\n",
    "        with tf.GradientTape() as tape: # second loss (maximization)\n",
    "            loss, mse, cst = self.__custom_loss(x, y_true, sign=-1)\n",
    "        grads = tape.gradient(loss, mul_vars) # adjust lambda\n",
    "        self.optimizer.apply_gradients(zip(grads, mul_vars))\n",
    "```\n",
    "\n",
    "* In principle, we could even have used two distinct optimizers\n",
    "* That would allow to keep (e.g.) separate momentum vectors"
   ]
  },
  {
   "cell_type": "markdown",
   "metadata": {
    "slideshow": {
     "slide_type": "subslide"
    }
   },
   "source": [
    "## Training the Lagrangian Dual Approach"
   ]
  },
  {
   "cell_type": "code",
   "execution_count": 12,
   "metadata": {},
   "outputs": [
    {
     "data": {
      "application/vnd.jupyter.widget-view+json": {
       "model_id": "146e8134d88348c8b96fb17cc2dce3e2",
       "version_major": 2,
       "version_minor": 0
      },
      "text/html": [
       "\n",
       "            <div style=\"display: inline-block;\">\n",
       "                <div class=\"jupyter-widgets widget-label\" style=\"text-align: center;\">\n",
       "                    Figure\n",
       "                </div>\n",
       "                <img src='data:image/png;base64,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' width=900.0/>\n",
       "            </div>\n",
       "        "
      ],
      "text/plain": [
       "Canvas(toolbar=Toolbar(toolitems=[('Home', 'Reset original view', 'home', 'home'), ('Back', 'Back to previous …"
      ]
     },
     "metadata": {},
     "output_type": "display_data"
    }
   ],
   "source": [
    "nn4 = cst.LagDualDIDIRegressor(attributes, protected, thr=didi_thr, hidden=[])\n",
    "nn4.compile(optimizer='Adam', loss='mse')\n",
    "history4 = nn4.fit(tr[attributes], tr[target], batch_size=len(tr), epochs=3000, verbose=0)\n",
    "\n",
    "cst.plot_training_history(history4)"
   ]
  },
  {
   "cell_type": "markdown",
   "metadata": {
    "slideshow": {
     "slide_type": "subslide"
    }
   },
   "source": [
    "## Lagrangian Dual Evaluation\n",
    "\n",
    "**Let's check the new results**"
   ]
  },
  {
   "cell_type": "code",
   "execution_count": 13,
   "metadata": {},
   "outputs": [
    {
     "name": "stdout",
     "output_type": "stream",
     "text": [
      "R2 score: 0.63 (training), 0.57 (test)\n",
      "MAE: 0.05 (training), 0.06 (test)\n",
      "DIDI: 0.13 (training), 0.15 (test)\n"
     ]
    }
   ],
   "source": [
    "tr_pred4 = nn4.predict(tr[attributes])\n",
    "r2_tr4 = r2_score(tr[target], tr_pred4)\n",
    "mae_tr4 = mean_absolute_error(tr[target], tr_pred4)\n",
    "\n",
    "ts_pred4 = nn4.predict(ts[attributes])\n",
    "r2_ts4 = r2_score(ts[target], ts_pred4)\n",
    "mae_ts4 = mean_absolute_error(ts[target], ts_pred4)\n",
    "\n",
    "print(f'R2 score: {r2_tr4:.2f} (training), {r2_ts4:.2f} (test)')\n",
    "print(f'MAE: {mae_tr4:.2f} (training), {mae_ts4:.2f} (test)')\n",
    "\n",
    "tr_DIDI4 = cst.DIDI_r(tr, tr_pred4, protected)\n",
    "ts_DIDI4 = cst.DIDI_r(ts, ts_pred4, protected)\n",
    "print(f'DIDI: {tr_DIDI4:.2f} (training), {ts_DIDI4:.2f} (test)')"
   ]
  },
  {
   "cell_type": "markdown",
   "metadata": {},
   "source": [
    "* The DIDI has the desired value (on the test set, this is only roughly true)\n",
    "* ...And the prediction quality is _much higher than before_!"
   ]
  }
 ],
 "metadata": {
  "celltoolbar": "Slideshow",
  "kernelspec": {
   "display_name": "Python 3",
   "language": "python",
   "name": "python3"
  },
  "language_info": {
   "codemirror_mode": {
    "name": "ipython",
    "version": 3
   },
   "file_extension": ".py",
   "mimetype": "text/x-python",
   "name": "python",
   "nbconvert_exporter": "python",
   "pygments_lexer": "ipython3",
   "version": "3.6.9"
  },
  "rise": {
   "center": false,
   "transition": "fade"
  }
 },
 "nbformat": 4,
 "nbformat_minor": 4
}
